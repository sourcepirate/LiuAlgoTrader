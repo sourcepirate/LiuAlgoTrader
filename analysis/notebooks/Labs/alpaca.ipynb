{
 "cells": [
  {
   "cell_type": "code",
   "execution_count": null,
   "id": "chinese-portuguese",
   "metadata": {},
   "outputs": [],
   "source": [
    "from datetime import date\n",
    "import pandas as pd\n",
    "from alpaca_trade_api.rest import REST, URL, TimeFrame\n",
    "from liualgotrader.common import config"
   ]
  },
  {
   "cell_type": "code",
   "execution_count": null,
   "id": "designing-phenomenon",
   "metadata": {},
   "outputs": [],
   "source": [
    "alpaca_rest_client = REST(\n",
    "    key_id=config.alpaca_api_key, secret_key=config.alpaca_api_secret\n",
    ")"
   ]
  },
  {
   "cell_type": "code",
   "execution_count": null,
   "id": "da839ec8",
   "metadata": {},
   "outputs": [],
   "source": [
    "dir(alpaca_rest_client)"
   ]
  },
  {
   "cell_type": "markdown",
   "id": "23dfd61a",
   "metadata": {},
   "source": [
    "### snapshots"
   ]
  },
  {
   "cell_type": "code",
   "execution_count": null,
   "id": "1ed2bdf4",
   "metadata": {},
   "outputs": [],
   "source": [
    "data = alpaca_rest_client.get_snapshots([\"AAPL\"])\n",
    "print(str(data['AAPL'].latest_trade))"
   ]
  },
  {
   "cell_type": "code",
   "execution_count": null,
   "id": "c1474bda",
   "metadata": {},
   "outputs": [],
   "source": [
    "alpaca_rest_client.list_assets(status='active')"
   ]
  },
  {
   "cell_type": "code",
   "execution_count": null,
   "id": "fcbe9356",
   "metadata": {},
   "outputs": [],
   "source": [
    "symbols = [\n",
    "    asset.symbol\n",
    "    for asset in alpaca_rest_client.list_assets(\n",
    "        status=\"active\", asset_class=\"us_equity\"\n",
    "    )\n",
    "    if asset.tradable == True\n",
    "]"
   ]
  },
  {
   "cell_type": "code",
   "execution_count": null,
   "id": "6cab01dc",
   "metadata": {},
   "outputs": [],
   "source": [
    "chunk_size = 1000\n",
    "chunked_symbols = [symbols[i:i+chunk_size] for i in range(0, len(symbols), chunk_size)]\n",
    "len(chunked_symbols)"
   ]
  },
  {
   "cell_type": "code",
   "execution_count": null,
   "id": "059e3031",
   "metadata": {},
   "outputs": [],
   "source": [
    "for chunk in chunked_symbols:\n",
    "    data = alpaca_rest_client.get_snapshots(chunk)\n",
    "    print(data)"
   ]
  },
  {
   "cell_type": "markdown",
   "id": "afc1badc",
   "metadata": {},
   "source": [
    "### Crypto\n"
   ]
  },
  {
   "cell_type": "code",
   "execution_count": null,
   "id": "9ce4ebf2",
   "metadata": {},
   "outputs": [],
   "source": [
    "bars = alpaca_rest_client.get_bars(\n",
    "    symbol=\"USDBTC\",\n",
    "    timeframe=TimeFrame.Minute,\n",
    "    start=date(year=2021, month=4, day=1),\n",
    "    end=date(year=2021, month=4, day=2),\n",
    ")\n",
    "bars"
   ]
  },
  {
   "cell_type": "markdown",
   "id": "b8194438",
   "metadata": {},
   "source": [
    "### bars"
   ]
  },
  {
   "cell_type": "code",
   "execution_count": null,
   "id": "distinct-survey",
   "metadata": {},
   "outputs": [],
   "source": [
    "bars = alpaca_rest_client.get_bars(\n",
    "    symbol=\"AAPL\",\n",
    "    timeframe=TimeFrame.Hour,\n",
    "    start=date(year=2021, month=6, day=14),\n",
    "    end=date(year=2021, month=6, day=14),\n",
    ")"
   ]
  },
  {
   "cell_type": "code",
   "execution_count": null,
   "id": "fitting-soldier",
   "metadata": {},
   "outputs": [],
   "source": [
    "pd.read_json(json.dumps(bars._raw))"
   ]
  },
  {
   "cell_type": "markdown",
   "id": "969dc14e",
   "metadata": {},
   "source": [
    "### multi symbol bars"
   ]
  },
  {
   "cell_type": "code",
   "execution_count": null,
   "id": "6bf93681",
   "metadata": {},
   "outputs": [],
   "source": [
    "symbols = [\"AAPL\", \"IBM\"]\n",
    "bars = alpaca_rest_client.get_bars(\n",
    "    symbol=symbols,\n",
    "    timeframe=TimeFrame.Hour,\n",
    "    start=date(year=2021, month=6, day=14),\n",
    "    end=date(year=2021, month=6, day=14),\n",
    ")"
   ]
  },
  {
   "cell_type": "code",
   "execution_count": null,
   "id": "5716b36c",
   "metadata": {},
   "outputs": [],
   "source": [
    "bars"
   ]
  },
  {
   "cell_type": "code",
   "execution_count": null,
   "id": "69a02a7b",
   "metadata": {},
   "outputs": [],
   "source": [
    "df = pd.read_json(json.dumps(bars._raw))\n",
    "grouped = df.groupby(df['S'])\n",
    "for symbol in df['S'].unique():\n",
    "    temporary_df = grouped.get_group(symbol)\n",
    "    print(symbol)\n",
    "    print(temporary_df)"
   ]
  }
 ],
 "metadata": {
  "kernelspec": {
   "display_name": "Python 3 (ipykernel)",
   "language": "python",
   "name": "python3"
  },
  "language_info": {
   "codemirror_mode": {
    "name": "ipython",
    "version": 3
   },
   "file_extension": ".py",
   "mimetype": "text/x-python",
   "name": "python",
   "nbconvert_exporter": "python",
   "pygments_lexer": "ipython3",
   "version": "3.9.0"
  }
 },
 "nbformat": 4,
 "nbformat_minor": 5
}
